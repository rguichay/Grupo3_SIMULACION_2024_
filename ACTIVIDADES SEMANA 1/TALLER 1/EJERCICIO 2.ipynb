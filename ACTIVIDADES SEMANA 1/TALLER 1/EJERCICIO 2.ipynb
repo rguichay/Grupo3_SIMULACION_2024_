{
 "cells": [
  {
   "cell_type": "code",
   "execution_count": 6,
   "id": "4b0c8b09-6512-4f11-bcf1-9eac08d2de44",
   "metadata": {},
   "outputs": [],
   "source": [
    "import numpy as np\n",
    "from scipy.optimize import fsolve\n",
    "import sympy as sp"
   ]
  },
  {
   "cell_type": "code",
   "execution_count": 22,
   "id": "669b17a2-e0ed-4c1f-9130-56b58f1193d1",
   "metadata": {},
   "outputs": [],
   "source": [
    "def equations(vars):\n",
    "    x1, x2, x3 = vars\n",
    "    \n",
    "    f1 = 3*x1 - np.cos(x2*x3) - 1 / 2\n",
    "    f2 = x1**2 - 81*(x2 + 0.1)**2 + np.sin(x3) + 1.06\n",
    "    f3 = np.exp(-x1*x2) + 20*x3 + (10*np.pi - 3) / 3\n",
    "    \n",
    "    return [f1, f2, f3]"
   ]
  },
  {
   "cell_type": "code",
   "execution_count": 23,
   "id": "9e12da5d-05cc-4152-b562-d6ac50d843c4",
   "metadata": {},
   "outputs": [],
   "source": [
    "# Aproximación inicial\n",
    "initial_guess = [0, 0, 0]"
   ]
  },
  {
   "cell_type": "code",
   "execution_count": 24,
   "id": "44d57b30-ccf0-4e5b-bfcb-3bf759c68594",
   "metadata": {},
   "outputs": [
    {
     "name": "stdout",
     "output_type": "stream",
     "text": [
      "Solución encontrada:\n",
      "x1 = 0.5000000000000007\n",
      "x2 = -2.6552564175201075e-13\n",
      "x3 = -0.5235987755983051\n"
     ]
    }
   ],
   "source": [
    "# Resolver el sistema no lineal\n",
    "solution = fsolve(equations, initial_guess)\n",
    "\n",
    "print(\"Solución encontrada:\")\n",
    "print(f\"x1 = {solution[0]}\")\n",
    "print(f\"x2 = {solution[1]}\")\n",
    "print(f\"x3 = {solution[2]}\")"
   ]
  },
  {
   "cell_type": "code",
   "execution_count": null,
   "id": "edc7da10-cfcb-48dc-888c-261d7a31229b",
   "metadata": {},
   "outputs": [],
   "source": []
  }
 ],
 "metadata": {
  "kernelspec": {
   "display_name": "Python 3 (ipykernel)",
   "language": "python",
   "name": "python3"
  },
  "language_info": {
   "codemirror_mode": {
    "name": "ipython",
    "version": 3
   },
   "file_extension": ".py",
   "mimetype": "text/x-python",
   "name": "python",
   "nbconvert_exporter": "python",
   "pygments_lexer": "ipython3",
   "version": "3.12.0"
  }
 },
 "nbformat": 4,
 "nbformat_minor": 5
}
